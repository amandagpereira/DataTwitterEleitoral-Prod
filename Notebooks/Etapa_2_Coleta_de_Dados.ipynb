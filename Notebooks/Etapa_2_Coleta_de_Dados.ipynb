{
  "nbformat": 4,
  "nbformat_minor": 0,
  "metadata": {
    "colab": {
      "name": "Etapa 2 - Coleta de Dados.ipynb ",
      "provenance": [],
      "collapsed_sections": []
    },
    "kernelspec": {
      "name": "python3",
      "display_name": "Python 3"
    },
    "language_info": {
      "name": "python"
    }
  },
  "cells": [
    {
      "cell_type": "markdown",
      "source": [
        "###Apresentação do projeto"
      ],
      "metadata": {
        "id": "f5rb1EVvF6FZ"
      }
    },
    {
      "cell_type": "markdown",
      "source": [
        "Instalação das biliotecas"
      ],
      "metadata": {
        "id": "mR5r1C5QsOl6"
      }
    },
    {
      "cell_type": "code",
      "source": [
        "pip install snscrape"
      ],
      "metadata": {
        "colab": {
          "base_uri": "https://localhost:8080/"
        },
        "id": "VzIDlxyUsQ6b",
        "outputId": "d8743cb0-057f-4071-80df-22d463ddc2a7"
      },
      "execution_count": 1,
      "outputs": [
        {
          "output_type": "stream",
          "name": "stdout",
          "text": [
            "Looking in indexes: https://pypi.org/simple, https://us-python.pkg.dev/colab-wheels/public/simple/\n",
            "Collecting snscrape\n",
            "  Downloading snscrape-0.3.4-py3-none-any.whl (35 kB)\n",
            "Requirement already satisfied: requests[socks] in /usr/local/lib/python3.7/dist-packages (from snscrape) (2.23.0)\n",
            "Requirement already satisfied: lxml in /usr/local/lib/python3.7/dist-packages (from snscrape) (4.9.1)\n",
            "Requirement already satisfied: beautifulsoup4 in /usr/local/lib/python3.7/dist-packages (from snscrape) (4.6.3)\n",
            "Requirement already satisfied: idna<3,>=2.5 in /usr/local/lib/python3.7/dist-packages (from requests[socks]->snscrape) (2.10)\n",
            "Requirement already satisfied: urllib3!=1.25.0,!=1.25.1,<1.26,>=1.21.1 in /usr/local/lib/python3.7/dist-packages (from requests[socks]->snscrape) (1.24.3)\n",
            "Requirement already satisfied: certifi>=2017.4.17 in /usr/local/lib/python3.7/dist-packages (from requests[socks]->snscrape) (2022.6.15)\n",
            "Requirement already satisfied: chardet<4,>=3.0.2 in /usr/local/lib/python3.7/dist-packages (from requests[socks]->snscrape) (3.0.4)\n",
            "Requirement already satisfied: PySocks!=1.5.7,>=1.5.6 in /usr/local/lib/python3.7/dist-packages (from requests[socks]->snscrape) (1.7.1)\n",
            "Installing collected packages: snscrape\n",
            "Successfully installed snscrape-0.3.4\n"
          ]
        }
      ]
    },
    {
      "cell_type": "markdown",
      "source": [
        "Importando as bibliotecas"
      ],
      "metadata": {
        "id": "PH_sx8cxsosW"
      }
    },
    {
      "cell_type": "code",
      "source": [
        "import pandas as pd\n",
        "import snscrape.modules.twitter as sntwitter\n"
      ],
      "metadata": {
        "id": "YpmEVNBlsrox"
      },
      "execution_count": 2,
      "outputs": []
    },
    {
      "cell_type": "code",
      "source": [
        "maximo_tweets = 5000"
      ],
      "metadata": {
        "id": "tfh3DAYXtAa4"
      },
      "execution_count": 3,
      "outputs": []
    },
    {
      "cell_type": "markdown",
      "source": [
        "###Busca por tweets de acordo com palavra generica"
      ],
      "metadata": {
        "id": "QT9LNWPZyt4V"
      }
    },
    {
      "cell_type": "code",
      "source": [
        "def busca_tweets(palavra):\n",
        "  lista_tweets = []\n",
        "  for i, tweet in enumerate(sntwitter.TwitterSearchScraper([palavra]).get_items()):\n",
        "    if i >= maximo_tweets:\n",
        "      break\n",
        "    else:\n",
        "       lista_tweets.append([tweet.date,tweet.id, tweet.content])\n",
        "  return lista_tweets"
      ],
      "metadata": {
        "id": "7382IyMhVngv"
      },
      "execution_count": 4,
      "outputs": []
    },
    {
      "cell_type": "markdown",
      "source": [
        "###Busca por todos os tweets do candidato Lula"
      ],
      "metadata": {
        "id": "c_Iw98wHfYuV"
      }
    },
    {
      "cell_type": "code",
      "source": [
        "#Busca por todos os tweets do candidato Lula\n",
        "candidato = 'Lula'\n",
        "tweets_candidato = busca_tweets(candidato)\n",
        "dataframe_tweets_lula = pd.DataFrame(tweets_candidato, columns = ['Data_hora','Id_Tweet','Tweet'])\n",
        "dataframe_tweets_lula['Candidato'] = candidato\n",
        "dataframe_tweets_lula.head()"
      ],
      "metadata": {
        "id": "xVeVUeShuFrj",
        "colab": {
          "base_uri": "https://localhost:8080/",
          "height": 206
        },
        "outputId": "28025b2e-78fc-4d8d-d28b-d8af69a5401a"
      },
      "execution_count": 5,
      "outputs": [
        {
          "output_type": "execute_result",
          "data": {
            "text/plain": [
              "                  Data_hora             Id_Tweet  \\\n",
              "0 2022-08-03 12:25:04+00:00  1554805547462950913   \n",
              "1 2022-08-03 12:25:03+00:00  1554805546091421696   \n",
              "2 2022-08-03 12:25:03+00:00  1554805544287862784   \n",
              "3 2022-08-03 12:25:03+00:00  1554805543759495168   \n",
              "4 2022-08-03 12:25:02+00:00  1554805542283083782   \n",
              "\n",
              "                                               Tweet Candidato  \n",
              "0  Nova pesquisa aponta Lula com 44% e Bolsonaro,...      Lula  \n",
              "1               @LulaOficial https://t.co/kSrhLkKBQ0      Lula  \n",
              "2  @LulaOficial Vai se recuperar na cadeia bandid...      Lula  \n",
              "3  @o_antagonista @LulaOficial @jairbolsonaro Confia      Lula  \n",
              "4  @IvanValente Comece então a explicar se Lula v...      Lula  "
            ],
            "text/html": [
              "\n",
              "  <div id=\"df-c5c44dc5-5005-4ab9-b3b1-758fffed2f94\">\n",
              "    <div class=\"colab-df-container\">\n",
              "      <div>\n",
              "<style scoped>\n",
              "    .dataframe tbody tr th:only-of-type {\n",
              "        vertical-align: middle;\n",
              "    }\n",
              "\n",
              "    .dataframe tbody tr th {\n",
              "        vertical-align: top;\n",
              "    }\n",
              "\n",
              "    .dataframe thead th {\n",
              "        text-align: right;\n",
              "    }\n",
              "</style>\n",
              "<table border=\"1\" class=\"dataframe\">\n",
              "  <thead>\n",
              "    <tr style=\"text-align: right;\">\n",
              "      <th></th>\n",
              "      <th>Data_hora</th>\n",
              "      <th>Id_Tweet</th>\n",
              "      <th>Tweet</th>\n",
              "      <th>Candidato</th>\n",
              "    </tr>\n",
              "  </thead>\n",
              "  <tbody>\n",
              "    <tr>\n",
              "      <th>0</th>\n",
              "      <td>2022-08-03 12:25:04+00:00</td>\n",
              "      <td>1554805547462950913</td>\n",
              "      <td>Nova pesquisa aponta Lula com 44% e Bolsonaro,...</td>\n",
              "      <td>Lula</td>\n",
              "    </tr>\n",
              "    <tr>\n",
              "      <th>1</th>\n",
              "      <td>2022-08-03 12:25:03+00:00</td>\n",
              "      <td>1554805546091421696</td>\n",
              "      <td>@LulaOficial https://t.co/kSrhLkKBQ0</td>\n",
              "      <td>Lula</td>\n",
              "    </tr>\n",
              "    <tr>\n",
              "      <th>2</th>\n",
              "      <td>2022-08-03 12:25:03+00:00</td>\n",
              "      <td>1554805544287862784</td>\n",
              "      <td>@LulaOficial Vai se recuperar na cadeia bandid...</td>\n",
              "      <td>Lula</td>\n",
              "    </tr>\n",
              "    <tr>\n",
              "      <th>3</th>\n",
              "      <td>2022-08-03 12:25:03+00:00</td>\n",
              "      <td>1554805543759495168</td>\n",
              "      <td>@o_antagonista @LulaOficial @jairbolsonaro Confia</td>\n",
              "      <td>Lula</td>\n",
              "    </tr>\n",
              "    <tr>\n",
              "      <th>4</th>\n",
              "      <td>2022-08-03 12:25:02+00:00</td>\n",
              "      <td>1554805542283083782</td>\n",
              "      <td>@IvanValente Comece então a explicar se Lula v...</td>\n",
              "      <td>Lula</td>\n",
              "    </tr>\n",
              "  </tbody>\n",
              "</table>\n",
              "</div>\n",
              "      <button class=\"colab-df-convert\" onclick=\"convertToInteractive('df-c5c44dc5-5005-4ab9-b3b1-758fffed2f94')\"\n",
              "              title=\"Convert this dataframe to an interactive table.\"\n",
              "              style=\"display:none;\">\n",
              "        \n",
              "  <svg xmlns=\"http://www.w3.org/2000/svg\" height=\"24px\"viewBox=\"0 0 24 24\"\n",
              "       width=\"24px\">\n",
              "    <path d=\"M0 0h24v24H0V0z\" fill=\"none\"/>\n",
              "    <path d=\"M18.56 5.44l.94 2.06.94-2.06 2.06-.94-2.06-.94-.94-2.06-.94 2.06-2.06.94zm-11 1L8.5 8.5l.94-2.06 2.06-.94-2.06-.94L8.5 2.5l-.94 2.06-2.06.94zm10 10l.94 2.06.94-2.06 2.06-.94-2.06-.94-.94-2.06-.94 2.06-2.06.94z\"/><path d=\"M17.41 7.96l-1.37-1.37c-.4-.4-.92-.59-1.43-.59-.52 0-1.04.2-1.43.59L10.3 9.45l-7.72 7.72c-.78.78-.78 2.05 0 2.83L4 21.41c.39.39.9.59 1.41.59.51 0 1.02-.2 1.41-.59l7.78-7.78 2.81-2.81c.8-.78.8-2.07 0-2.86zM5.41 20L4 18.59l7.72-7.72 1.47 1.35L5.41 20z\"/>\n",
              "  </svg>\n",
              "      </button>\n",
              "      \n",
              "  <style>\n",
              "    .colab-df-container {\n",
              "      display:flex;\n",
              "      flex-wrap:wrap;\n",
              "      gap: 12px;\n",
              "    }\n",
              "\n",
              "    .colab-df-convert {\n",
              "      background-color: #E8F0FE;\n",
              "      border: none;\n",
              "      border-radius: 50%;\n",
              "      cursor: pointer;\n",
              "      display: none;\n",
              "      fill: #1967D2;\n",
              "      height: 32px;\n",
              "      padding: 0 0 0 0;\n",
              "      width: 32px;\n",
              "    }\n",
              "\n",
              "    .colab-df-convert:hover {\n",
              "      background-color: #E2EBFA;\n",
              "      box-shadow: 0px 1px 2px rgba(60, 64, 67, 0.3), 0px 1px 3px 1px rgba(60, 64, 67, 0.15);\n",
              "      fill: #174EA6;\n",
              "    }\n",
              "\n",
              "    [theme=dark] .colab-df-convert {\n",
              "      background-color: #3B4455;\n",
              "      fill: #D2E3FC;\n",
              "    }\n",
              "\n",
              "    [theme=dark] .colab-df-convert:hover {\n",
              "      background-color: #434B5C;\n",
              "      box-shadow: 0px 1px 3px 1px rgba(0, 0, 0, 0.15);\n",
              "      filter: drop-shadow(0px 1px 2px rgba(0, 0, 0, 0.3));\n",
              "      fill: #FFFFFF;\n",
              "    }\n",
              "  </style>\n",
              "\n",
              "      <script>\n",
              "        const buttonEl =\n",
              "          document.querySelector('#df-c5c44dc5-5005-4ab9-b3b1-758fffed2f94 button.colab-df-convert');\n",
              "        buttonEl.style.display =\n",
              "          google.colab.kernel.accessAllowed ? 'block' : 'none';\n",
              "\n",
              "        async function convertToInteractive(key) {\n",
              "          const element = document.querySelector('#df-c5c44dc5-5005-4ab9-b3b1-758fffed2f94');\n",
              "          const dataTable =\n",
              "            await google.colab.kernel.invokeFunction('convertToInteractive',\n",
              "                                                     [key], {});\n",
              "          if (!dataTable) return;\n",
              "\n",
              "          const docLinkHtml = 'Like what you see? Visit the ' +\n",
              "            '<a target=\"_blank\" href=https://colab.research.google.com/notebooks/data_table.ipynb>data table notebook</a>'\n",
              "            + ' to learn more about interactive tables.';\n",
              "          element.innerHTML = '';\n",
              "          dataTable['output_type'] = 'display_data';\n",
              "          await google.colab.output.renderOutput(dataTable, element);\n",
              "          const docLink = document.createElement('div');\n",
              "          docLink.innerHTML = docLinkHtml;\n",
              "          element.appendChild(docLink);\n",
              "        }\n",
              "      </script>\n",
              "    </div>\n",
              "  </div>\n",
              "  "
            ]
          },
          "metadata": {},
          "execution_count": 5
        }
      ]
    },
    {
      "cell_type": "markdown",
      "source": [
        "### Busca por todos os tweets do candidato Bolsonaro"
      ],
      "metadata": {
        "id": "m0alEWJcfeYv"
      }
    },
    {
      "cell_type": "code",
      "source": [
        "#Busca por todos os tweets do candidato Bolsonaro\n",
        "candidato = 'Bolsonaro'\n",
        "tweets_candidato = busca_tweets(candidato)\n",
        "dataframe_tweets_bolsonaro = pd.DataFrame(tweets_candidato, columns = ['Data_hora','Id_Tweet','Tweet'])\n",
        "dataframe_tweets_bolsonaro['Candidato'] = candidato\n",
        "dataframe_tweets_bolsonaro.head()"
      ],
      "metadata": {
        "colab": {
          "base_uri": "https://localhost:8080/",
          "height": 206
        },
        "id": "PkeXx3sScD9h",
        "outputId": "7660ffc5-b773-4038-f948-2f14885ecbf5"
      },
      "execution_count": 6,
      "outputs": [
        {
          "output_type": "execute_result",
          "data": {
            "text/plain": [
              "                  Data_hora             Id_Tweet  \\\n",
              "0 2022-08-03 12:26:20+00:00  1554805866288889862   \n",
              "1 2022-08-03 12:26:20+00:00  1554805866083254273   \n",
              "2 2022-08-03 12:26:18+00:00  1554805860521721857   \n",
              "3 2022-08-03 12:26:18+00:00  1554805859930218497   \n",
              "4 2022-08-03 12:26:18+00:00  1554805859594768390   \n",
              "\n",
              "                                               Tweet  Candidato  \n",
              "0  @gustari_ @Adro171 @pinktragic @jairbolsonaro ...  Bolsonaro  \n",
              "1  @Haddad_Fernando Como o senhor pretende fazer ...  Bolsonaro  \n",
              "2  @jairbolsonaro Conheça em https://t.co/JdMoQAb...  Bolsonaro  \n",
              "3  @jairbolsonaro Presidente, estamos juntos, ess...  Bolsonaro  \n",
              "4  @13alissonfogao @jairbolsonaro @RemindMe_OfThi...  Bolsonaro  "
            ],
            "text/html": [
              "\n",
              "  <div id=\"df-631a6db7-826d-4c5a-9e80-46a307b8bb0d\">\n",
              "    <div class=\"colab-df-container\">\n",
              "      <div>\n",
              "<style scoped>\n",
              "    .dataframe tbody tr th:only-of-type {\n",
              "        vertical-align: middle;\n",
              "    }\n",
              "\n",
              "    .dataframe tbody tr th {\n",
              "        vertical-align: top;\n",
              "    }\n",
              "\n",
              "    .dataframe thead th {\n",
              "        text-align: right;\n",
              "    }\n",
              "</style>\n",
              "<table border=\"1\" class=\"dataframe\">\n",
              "  <thead>\n",
              "    <tr style=\"text-align: right;\">\n",
              "      <th></th>\n",
              "      <th>Data_hora</th>\n",
              "      <th>Id_Tweet</th>\n",
              "      <th>Tweet</th>\n",
              "      <th>Candidato</th>\n",
              "    </tr>\n",
              "  </thead>\n",
              "  <tbody>\n",
              "    <tr>\n",
              "      <th>0</th>\n",
              "      <td>2022-08-03 12:26:20+00:00</td>\n",
              "      <td>1554805866288889862</td>\n",
              "      <td>@gustari_ @Adro171 @pinktragic @jairbolsonaro ...</td>\n",
              "      <td>Bolsonaro</td>\n",
              "    </tr>\n",
              "    <tr>\n",
              "      <th>1</th>\n",
              "      <td>2022-08-03 12:26:20+00:00</td>\n",
              "      <td>1554805866083254273</td>\n",
              "      <td>@Haddad_Fernando Como o senhor pretende fazer ...</td>\n",
              "      <td>Bolsonaro</td>\n",
              "    </tr>\n",
              "    <tr>\n",
              "      <th>2</th>\n",
              "      <td>2022-08-03 12:26:18+00:00</td>\n",
              "      <td>1554805860521721857</td>\n",
              "      <td>@jairbolsonaro Conheça em https://t.co/JdMoQAb...</td>\n",
              "      <td>Bolsonaro</td>\n",
              "    </tr>\n",
              "    <tr>\n",
              "      <th>3</th>\n",
              "      <td>2022-08-03 12:26:18+00:00</td>\n",
              "      <td>1554805859930218497</td>\n",
              "      <td>@jairbolsonaro Presidente, estamos juntos, ess...</td>\n",
              "      <td>Bolsonaro</td>\n",
              "    </tr>\n",
              "    <tr>\n",
              "      <th>4</th>\n",
              "      <td>2022-08-03 12:26:18+00:00</td>\n",
              "      <td>1554805859594768390</td>\n",
              "      <td>@13alissonfogao @jairbolsonaro @RemindMe_OfThi...</td>\n",
              "      <td>Bolsonaro</td>\n",
              "    </tr>\n",
              "  </tbody>\n",
              "</table>\n",
              "</div>\n",
              "      <button class=\"colab-df-convert\" onclick=\"convertToInteractive('df-631a6db7-826d-4c5a-9e80-46a307b8bb0d')\"\n",
              "              title=\"Convert this dataframe to an interactive table.\"\n",
              "              style=\"display:none;\">\n",
              "        \n",
              "  <svg xmlns=\"http://www.w3.org/2000/svg\" height=\"24px\"viewBox=\"0 0 24 24\"\n",
              "       width=\"24px\">\n",
              "    <path d=\"M0 0h24v24H0V0z\" fill=\"none\"/>\n",
              "    <path d=\"M18.56 5.44l.94 2.06.94-2.06 2.06-.94-2.06-.94-.94-2.06-.94 2.06-2.06.94zm-11 1L8.5 8.5l.94-2.06 2.06-.94-2.06-.94L8.5 2.5l-.94 2.06-2.06.94zm10 10l.94 2.06.94-2.06 2.06-.94-2.06-.94-.94-2.06-.94 2.06-2.06.94z\"/><path d=\"M17.41 7.96l-1.37-1.37c-.4-.4-.92-.59-1.43-.59-.52 0-1.04.2-1.43.59L10.3 9.45l-7.72 7.72c-.78.78-.78 2.05 0 2.83L4 21.41c.39.39.9.59 1.41.59.51 0 1.02-.2 1.41-.59l7.78-7.78 2.81-2.81c.8-.78.8-2.07 0-2.86zM5.41 20L4 18.59l7.72-7.72 1.47 1.35L5.41 20z\"/>\n",
              "  </svg>\n",
              "      </button>\n",
              "      \n",
              "  <style>\n",
              "    .colab-df-container {\n",
              "      display:flex;\n",
              "      flex-wrap:wrap;\n",
              "      gap: 12px;\n",
              "    }\n",
              "\n",
              "    .colab-df-convert {\n",
              "      background-color: #E8F0FE;\n",
              "      border: none;\n",
              "      border-radius: 50%;\n",
              "      cursor: pointer;\n",
              "      display: none;\n",
              "      fill: #1967D2;\n",
              "      height: 32px;\n",
              "      padding: 0 0 0 0;\n",
              "      width: 32px;\n",
              "    }\n",
              "\n",
              "    .colab-df-convert:hover {\n",
              "      background-color: #E2EBFA;\n",
              "      box-shadow: 0px 1px 2px rgba(60, 64, 67, 0.3), 0px 1px 3px 1px rgba(60, 64, 67, 0.15);\n",
              "      fill: #174EA6;\n",
              "    }\n",
              "\n",
              "    [theme=dark] .colab-df-convert {\n",
              "      background-color: #3B4455;\n",
              "      fill: #D2E3FC;\n",
              "    }\n",
              "\n",
              "    [theme=dark] .colab-df-convert:hover {\n",
              "      background-color: #434B5C;\n",
              "      box-shadow: 0px 1px 3px 1px rgba(0, 0, 0, 0.15);\n",
              "      filter: drop-shadow(0px 1px 2px rgba(0, 0, 0, 0.3));\n",
              "      fill: #FFFFFF;\n",
              "    }\n",
              "  </style>\n",
              "\n",
              "      <script>\n",
              "        const buttonEl =\n",
              "          document.querySelector('#df-631a6db7-826d-4c5a-9e80-46a307b8bb0d button.colab-df-convert');\n",
              "        buttonEl.style.display =\n",
              "          google.colab.kernel.accessAllowed ? 'block' : 'none';\n",
              "\n",
              "        async function convertToInteractive(key) {\n",
              "          const element = document.querySelector('#df-631a6db7-826d-4c5a-9e80-46a307b8bb0d');\n",
              "          const dataTable =\n",
              "            await google.colab.kernel.invokeFunction('convertToInteractive',\n",
              "                                                     [key], {});\n",
              "          if (!dataTable) return;\n",
              "\n",
              "          const docLinkHtml = 'Like what you see? Visit the ' +\n",
              "            '<a target=\"_blank\" href=https://colab.research.google.com/notebooks/data_table.ipynb>data table notebook</a>'\n",
              "            + ' to learn more about interactive tables.';\n",
              "          element.innerHTML = '';\n",
              "          dataTable['output_type'] = 'display_data';\n",
              "          await google.colab.output.renderOutput(dataTable, element);\n",
              "          const docLink = document.createElement('div');\n",
              "          docLink.innerHTML = docLinkHtml;\n",
              "          element.appendChild(docLink);\n",
              "        }\n",
              "      </script>\n",
              "    </div>\n",
              "  </div>\n",
              "  "
            ]
          },
          "metadata": {},
          "execution_count": 6
        }
      ]
    },
    {
      "cell_type": "markdown",
      "source": [
        "### Busca por todos os Tweets do candidato Ciro Gomes"
      ],
      "metadata": {
        "id": "6zT-BQAAfksT"
      }
    },
    {
      "cell_type": "code",
      "source": [
        "#Busca por todos os tweets do candidato Ciro\n",
        "candidato = 'Ciro'\n",
        "tweets_candidato = busca_tweets(candidato)\n",
        "dataframe_tweets_ciro = pd.DataFrame(tweets_candidato, columns = ['Data_hora','Id_Tweet','Tweet'])\n",
        "dataframe_tweets_ciro['Candidato'] = candidato\n",
        "dataframe_tweets_ciro.head()"
      ],
      "metadata": {
        "colab": {
          "base_uri": "https://localhost:8080/",
          "height": 250
        },
        "id": "ecyigaZwbV5T",
        "outputId": "d21cae03-8544-4097-8acf-4bd91f189865"
      },
      "execution_count": 7,
      "outputs": [
        {
          "output_type": "execute_result",
          "data": {
            "text/plain": [
              "                  Data_hora             Id_Tweet  \\\n",
              "0 2022-08-03 12:27:39+00:00  1554806198414852098   \n",
              "1 2022-08-03 12:27:28+00:00  1554806153095389187   \n",
              "2 2022-08-03 12:27:23+00:00  1554806133935710209   \n",
              "3 2022-08-03 12:27:20+00:00  1554806118400008192   \n",
              "4 2022-08-03 12:27:11+00:00  1554806083545440259   \n",
              "\n",
              "                                               Tweet Candidato  \n",
              "0  @fjosi1 @LulaOficial Para @ciro_nogueira , o b...      Ciro  \n",
              "1  Ciro mais rejeitado do que Lula ?!?!?!? oi ?!?...      Ciro  \n",
              "2  Levar água para o povo vc ficou mais de 16 ano...      Ciro  \n",
              "3  No tiene argumento @CiroGomezL y pone a debati...      Ciro  \n",
              "4  @epigmenioibarra @Radio_Formula @CiroGomezL Ya...      Ciro  "
            ],
            "text/html": [
              "\n",
              "  <div id=\"df-617634c6-3b90-4c51-b493-d29743c3257f\">\n",
              "    <div class=\"colab-df-container\">\n",
              "      <div>\n",
              "<style scoped>\n",
              "    .dataframe tbody tr th:only-of-type {\n",
              "        vertical-align: middle;\n",
              "    }\n",
              "\n",
              "    .dataframe tbody tr th {\n",
              "        vertical-align: top;\n",
              "    }\n",
              "\n",
              "    .dataframe thead th {\n",
              "        text-align: right;\n",
              "    }\n",
              "</style>\n",
              "<table border=\"1\" class=\"dataframe\">\n",
              "  <thead>\n",
              "    <tr style=\"text-align: right;\">\n",
              "      <th></th>\n",
              "      <th>Data_hora</th>\n",
              "      <th>Id_Tweet</th>\n",
              "      <th>Tweet</th>\n",
              "      <th>Candidato</th>\n",
              "    </tr>\n",
              "  </thead>\n",
              "  <tbody>\n",
              "    <tr>\n",
              "      <th>0</th>\n",
              "      <td>2022-08-03 12:27:39+00:00</td>\n",
              "      <td>1554806198414852098</td>\n",
              "      <td>@fjosi1 @LulaOficial Para @ciro_nogueira , o b...</td>\n",
              "      <td>Ciro</td>\n",
              "    </tr>\n",
              "    <tr>\n",
              "      <th>1</th>\n",
              "      <td>2022-08-03 12:27:28+00:00</td>\n",
              "      <td>1554806153095389187</td>\n",
              "      <td>Ciro mais rejeitado do que Lula ?!?!?!? oi ?!?...</td>\n",
              "      <td>Ciro</td>\n",
              "    </tr>\n",
              "    <tr>\n",
              "      <th>2</th>\n",
              "      <td>2022-08-03 12:27:23+00:00</td>\n",
              "      <td>1554806133935710209</td>\n",
              "      <td>Levar água para o povo vc ficou mais de 16 ano...</td>\n",
              "      <td>Ciro</td>\n",
              "    </tr>\n",
              "    <tr>\n",
              "      <th>3</th>\n",
              "      <td>2022-08-03 12:27:20+00:00</td>\n",
              "      <td>1554806118400008192</td>\n",
              "      <td>No tiene argumento @CiroGomezL y pone a debati...</td>\n",
              "      <td>Ciro</td>\n",
              "    </tr>\n",
              "    <tr>\n",
              "      <th>4</th>\n",
              "      <td>2022-08-03 12:27:11+00:00</td>\n",
              "      <td>1554806083545440259</td>\n",
              "      <td>@epigmenioibarra @Radio_Formula @CiroGomezL Ya...</td>\n",
              "      <td>Ciro</td>\n",
              "    </tr>\n",
              "  </tbody>\n",
              "</table>\n",
              "</div>\n",
              "      <button class=\"colab-df-convert\" onclick=\"convertToInteractive('df-617634c6-3b90-4c51-b493-d29743c3257f')\"\n",
              "              title=\"Convert this dataframe to an interactive table.\"\n",
              "              style=\"display:none;\">\n",
              "        \n",
              "  <svg xmlns=\"http://www.w3.org/2000/svg\" height=\"24px\"viewBox=\"0 0 24 24\"\n",
              "       width=\"24px\">\n",
              "    <path d=\"M0 0h24v24H0V0z\" fill=\"none\"/>\n",
              "    <path d=\"M18.56 5.44l.94 2.06.94-2.06 2.06-.94-2.06-.94-.94-2.06-.94 2.06-2.06.94zm-11 1L8.5 8.5l.94-2.06 2.06-.94-2.06-.94L8.5 2.5l-.94 2.06-2.06.94zm10 10l.94 2.06.94-2.06 2.06-.94-2.06-.94-.94-2.06-.94 2.06-2.06.94z\"/><path d=\"M17.41 7.96l-1.37-1.37c-.4-.4-.92-.59-1.43-.59-.52 0-1.04.2-1.43.59L10.3 9.45l-7.72 7.72c-.78.78-.78 2.05 0 2.83L4 21.41c.39.39.9.59 1.41.59.51 0 1.02-.2 1.41-.59l7.78-7.78 2.81-2.81c.8-.78.8-2.07 0-2.86zM5.41 20L4 18.59l7.72-7.72 1.47 1.35L5.41 20z\"/>\n",
              "  </svg>\n",
              "      </button>\n",
              "      \n",
              "  <style>\n",
              "    .colab-df-container {\n",
              "      display:flex;\n",
              "      flex-wrap:wrap;\n",
              "      gap: 12px;\n",
              "    }\n",
              "\n",
              "    .colab-df-convert {\n",
              "      background-color: #E8F0FE;\n",
              "      border: none;\n",
              "      border-radius: 50%;\n",
              "      cursor: pointer;\n",
              "      display: none;\n",
              "      fill: #1967D2;\n",
              "      height: 32px;\n",
              "      padding: 0 0 0 0;\n",
              "      width: 32px;\n",
              "    }\n",
              "\n",
              "    .colab-df-convert:hover {\n",
              "      background-color: #E2EBFA;\n",
              "      box-shadow: 0px 1px 2px rgba(60, 64, 67, 0.3), 0px 1px 3px 1px rgba(60, 64, 67, 0.15);\n",
              "      fill: #174EA6;\n",
              "    }\n",
              "\n",
              "    [theme=dark] .colab-df-convert {\n",
              "      background-color: #3B4455;\n",
              "      fill: #D2E3FC;\n",
              "    }\n",
              "\n",
              "    [theme=dark] .colab-df-convert:hover {\n",
              "      background-color: #434B5C;\n",
              "      box-shadow: 0px 1px 3px 1px rgba(0, 0, 0, 0.15);\n",
              "      filter: drop-shadow(0px 1px 2px rgba(0, 0, 0, 0.3));\n",
              "      fill: #FFFFFF;\n",
              "    }\n",
              "  </style>\n",
              "\n",
              "      <script>\n",
              "        const buttonEl =\n",
              "          document.querySelector('#df-617634c6-3b90-4c51-b493-d29743c3257f button.colab-df-convert');\n",
              "        buttonEl.style.display =\n",
              "          google.colab.kernel.accessAllowed ? 'block' : 'none';\n",
              "\n",
              "        async function convertToInteractive(key) {\n",
              "          const element = document.querySelector('#df-617634c6-3b90-4c51-b493-d29743c3257f');\n",
              "          const dataTable =\n",
              "            await google.colab.kernel.invokeFunction('convertToInteractive',\n",
              "                                                     [key], {});\n",
              "          if (!dataTable) return;\n",
              "\n",
              "          const docLinkHtml = 'Like what you see? Visit the ' +\n",
              "            '<a target=\"_blank\" href=https://colab.research.google.com/notebooks/data_table.ipynb>data table notebook</a>'\n",
              "            + ' to learn more about interactive tables.';\n",
              "          element.innerHTML = '';\n",
              "          dataTable['output_type'] = 'display_data';\n",
              "          await google.colab.output.renderOutput(dataTable, element);\n",
              "          const docLink = document.createElement('div');\n",
              "          docLink.innerHTML = docLinkHtml;\n",
              "          element.appendChild(docLink);\n",
              "        }\n",
              "      </script>\n",
              "    </div>\n",
              "  </div>\n",
              "  "
            ]
          },
          "metadata": {},
          "execution_count": 7
        }
      ]
    },
    {
      "cell_type": "code",
      "source": [
        "#Atencao! Accumulate data in a list, not a DataFrame! Use a list to collect your data, then initialize a DataFrame when you are ready!\n",
        "dataframe_final = pd.concat([dataframe_tweets_lula,dataframe_tweets_bolsonaro,dataframe_tweets_ciro], axis = 0)"
      ],
      "metadata": {
        "id": "OHs6f1if0jre"
      },
      "execution_count": 8,
      "outputs": []
    },
    {
      "cell_type": "code",
      "source": [
        "dataframe_final.to_csv('etapa2_dataframe_final_csv',sep=',',index=False)"
      ],
      "metadata": {
        "id": "FgI7k9d81stT"
      },
      "execution_count": 9,
      "outputs": []
    }
  ]
}